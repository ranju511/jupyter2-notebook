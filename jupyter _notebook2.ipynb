{
 "cells": [
  {
   "cell_type": "code",
   "execution_count": 1,
   "id": "25b26210",
   "metadata": {},
   "outputs": [
    {
     "name": "stdout",
     "output_type": "stream",
     "text": [
      "Hello, World!\n"
     ]
    }
   ],
   "source": [
    "# WAP to print \"Hello, World!\"\n",
    "str1 = (\"Hello, World!\")\n",
    "print(str1)\n"
   ]
  },
  {
   "cell_type": "code",
   "execution_count": 15,
   "id": "abc36740",
   "metadata": {},
   "outputs": [],
   "source": [
    "# functions \n",
    "# Write a funtion to print the length of list(list is parameter)\n",
    "cities= [\"kathmandu\", \"lalitpur\",\"Banepa\", \"Kirtipur\", \"Dhulikhel\"]\n",
    "def print_len(cities):\n",
    "    print(len(cities))\n",
    "    print_len(cities)\n",
    "   \n"
   ]
  },
  {
   "cell_type": "code",
   "execution_count": null,
   "id": "6f543753",
   "metadata": {},
   "outputs": [
    {
     "name": "stdout",
     "output_type": "stream",
     "text": [
      "My name is: Ranjana\n"
     ]
    }
   ],
   "source": [
    "    # function\n",
    " # To print string using function*\n",
    "def display(name):                          # name is parameter: variable7\n",
    "    print(\"My name is:\",name)\n",
    "\n",
    "display(\"Ranjana\")   # function call to get output\n"
   ]
  },
  {
   "cell_type": "code",
   "execution_count": null,
   "id": "afca6b92",
   "metadata": {},
   "outputs": [
    {
     "name": "stdout",
     "output_type": "stream",
     "text": [
      "sum of a and b is: 123\n"
     ]
    }
   ],
   "source": [
    "# function to calculate sum of two numbers\n",
    "def calc_sum(a,b):\n",
    "    sum = a+b\n",
    "    print(\"sum of a and b is:\",sum)\n",
    "\n",
    "calc_sum(45,78)     \n"
   ]
  },
  {
   "cell_type": "code",
   "execution_count": null,
   "id": "c5ffe072",
   "metadata": {},
   "outputs": [
    {
     "name": "stdout",
     "output_type": "stream",
     "text": [
      "prime minister is:\n"
     ]
    }
   ],
   "source": [
    "# function types\n",
    "#no parameter no return: \n",
    "\n",
    "def prime_minister():    # no parameter is given and return keyword isnot written anywhere in function\n",
    "    print(\"prime minister is:\",)\n",
    "    \n",
    "prime_minister() # while calling function argument hasnot been passed"
   ]
  },
  {
   "cell_type": "code",
   "execution_count": null,
   "id": "cfd89402",
   "metadata": {},
   "outputs": [
    {
     "name": "stdout",
     "output_type": "stream",
     "text": [
      "My fullname is: Ranjana Baniya\n"
     ]
    }
   ],
   "source": [
    "#  parameter and  no return type:\n",
    "def fullname(firstname, surname):\n",
    "    print(\"My fullname is:\",firstname, surname)\n",
    "    \n",
    "fullname(\"Ranjana\",\"Baniya\")"
   ]
  },
  {
   "cell_type": "code",
   "execution_count": null,
   "id": "c39187d6",
   "metadata": {},
   "outputs": [
    {
     "name": "stdout",
     "output_type": "stream",
     "text": [
      "My fullname is: firstname surname\n"
     ]
    },
    {
     "data": {
      "text/plain": [
       "<function __main__.fullname(firstname, surname)>"
      ]
     },
     "execution_count": 22,
     "metadata": {},
     "output_type": "execute_result"
    }
   ],
   "source": [
    "# parameter and return type:\n",
    "def fullname(firstname, surname):\n",
    "     print(\"My fullname is:\" ,\"firstname\", \"surname\") \n",
    "     return fullname\n",
    "     #return will eliminate the value we have given to parameter although \n",
    "     # we pass argument(assign value to our variable) and call it\n",
    "     # reurn vanda pachadiko block print hudaina and tyo pachi print garaune ho vane pheri euta name diyera \n",
    "     #call gari print garne\n",
    " \n",
    "fullname(\"Ranjana\",\"Baniya\")"
   ]
  },
  {
   "cell_type": "code",
   "execution_count": 28,
   "id": "708d9855",
   "metadata": {},
   "outputs": [
    {
     "name": "stdout",
     "output_type": "stream",
     "text": [
      "('firstname', 'surname')\n"
     ]
    }
   ],
   "source": [
    "# parameter and return type:(To print even after return)\n",
    "def fullname(firstname, surname):\n",
    "     fullname = \"firstname\", \"surname\"\n",
    "     return fullname\n",
    " \n",
    "fn = fullname(\"Ranjana\",\"Baniya\")\n",
    "print(fn)"
   ]
  },
  {
   "cell_type": "code",
   "execution_count": 5,
   "id": "da84cbfc",
   "metadata": {},
   "outputs": [
    {
     "name": "stdout",
     "output_type": "stream",
     "text": [
      "The largest number is: 70\n",
      "The smallest number is: 3\n"
     ]
    }
   ],
   "source": [
    "# To find the largest and smallest number in a python using built-in function:\n",
    "numbers = [3, 10, 5, 7, 30, 40,70]\n",
    "# For finding the largest number:\n",
    "largest_num = max(numbers)\n",
    "print(\"The largest number is:\", largest_num)\n",
    "# for finding smallest number:\n",
    "smallest_num = min(numbers)\n",
    "print(\"The smallest number is:\",smallest_num)"
   ]
  },
  {
   "cell_type": "code",
   "execution_count": null,
   "id": "84004ccd",
   "metadata": {},
   "outputs": [
    {
     "name": "stdout",
     "output_type": "stream",
     "text": [
      "12\n",
      "12\n"
     ]
    }
   ],
   "source": [
    "# function\n",
    "#Sum function:\n",
    "def sum_fun(a,b):  # define fun(parameters):\n",
    "    sum = a+b       # work to be done\n",
    "    return sum      # return value\n",
    "z= sum_fun(4,8)     # call function(with arguments means assign value to parameters)\n",
    "# or\n",
    "print(z)\n",
    "\n",
    "\n"
   ]
  },
  {
   "cell_type": "code",
   "execution_count": 11,
   "id": "af460516",
   "metadata": {},
   "outputs": [
    {
     "name": "stdout",
     "output_type": "stream",
     "text": [
      "15\n"
     ]
    }
   ],
   "source": [
    "\n",
    "#  (def calc_sum) is function definition\n",
    "def calc_sum(a,b):\n",
    "    #(a,b) are parameters which are variable90\n",
    "    return a+b\n",
    "# function call with (assigning value to parameters) means arguments\n",
    "sum = calc_sum(8,7)\n",
    "print(sum)"
   ]
  },
  {
   "cell_type": "code",
   "execution_count": 13,
   "id": "47db8f96",
   "metadata": {},
   "outputs": [
    {
     "name": "stdout",
     "output_type": "stream",
     "text": [
      "11.333333333333334\n"
     ]
    }
   ],
   "source": [
    "# create a function to calculate the average of 3 numbers\n",
    "def cal_avg(a, b, c):\n",
    "    sum = a+b+c\n",
    "    avg = sum/3\n",
    "    return avg\n",
    "avg = cal_avg(10, 9, 15)\n",
    "print(avg)\n"
   ]
  },
  {
   "cell_type": "code",
   "execution_count": 14,
   "id": "048514c5",
   "metadata": {},
   "outputs": [
    {
     "name": "stdout",
     "output_type": "stream",
     "text": [
      "348880\n"
     ]
    }
   ],
   "source": [
    "# create a function to multiply three numbers\n",
    "def calc_mul(a, b, c):\n",
    "    mul = (a*b*c)\n",
    "    return mul\n",
    "mul = calc_mul(56,89,70)\n",
    "print(mul)"
   ]
  },
  {
   "cell_type": "code",
   "execution_count": null,
   "id": "18629936",
   "metadata": {},
   "outputs": [
    {
     "name": "stdout",
     "output_type": "stream",
     "text": [
      "4\n"
     ]
    }
   ],
   "source": [
    "# Write a function(WAF) to  print the length of a list.(list is parameter)\n",
    "districts =  [\"kathmandu\", \"lalitpur\", \"Banepa\",  \"Dolakha\"]\n",
    "\n",
    "def print_len(districts):      # since it should be defined in function\n",
    "     print_len(districts)\n",
    "     \n",
    "print(len(districts))      # should be call to print.\n"
   ]
  },
  {
   "cell_type": "code",
   "execution_count": null,
   "id": "55c93c20",
   "metadata": {},
   "outputs": [
    {
     "name": "stdout",
     "output_type": "stream",
     "text": [
      "Original List: ['apple', 'banana', 'orange']\n",
      "Updated List: ['apple', 'banana', 'orange', 'cherry']\n"
     ]
    }
   ],
   "source": [
    "# to add element to a python list:\n",
    "fruits = ['apple', 'banana', 'orange']\n",
    "print('Original List:', fruits)\n",
    "\n",
    "fruits.append('cherry')\n",
    "\n",
    "print('Updated List:', fruits)"
   ]
  },
  {
   "cell_type": "code",
   "execution_count": null,
   "id": "bc481690",
   "metadata": {},
   "outputs": [
    {
     "name": "stdout",
     "output_type": "stream",
     "text": [
      "['Dollar', 'Euro', 'Pound', 'Yen']\n"
     ]
    }
   ],
   "source": [
    "#Method in list:\n",
    "# The append() method adds an item to the end of the list.The syntax of the append() method is:\n",
    "#Syntax of append :list.append(item)\n",
    "#append() Parameters:This method takes a single argument item - an item (number, string, list etc.)\n",
    "# #to be added at the end of the list.\n",
    "\n",
    "#Example:\n",
    "currencies = ['Dollar', 'Euro', 'Pound']\n",
    "\n",
    "# append 'Yen' to the list\n",
    "currencies.append('Yen')\n",
    "\n",
    "print(currencies)"
   ]
  },
  {
   "cell_type": "code",
   "execution_count": 19,
   "id": "54ea718e",
   "metadata": {},
   "outputs": [
    {
     "name": "stdout",
     "output_type": "stream",
     "text": [
      "['cat', 'dog', 'rabbit', 'cow']\n"
     ]
    }
   ],
   "source": [
    "# animals list\n",
    "animals = ['cat', 'dog', 'rabbit']\n",
    "\n",
    "# Add 'cow' to the list\n",
    "animals.append('cow')\n",
    "print(animals)"
   ]
  },
  {
   "cell_type": "code",
   "execution_count": null,
   "id": "6cc81969",
   "metadata": {},
   "outputs": [
    {
     "name": "stdout",
     "output_type": "stream",
     "text": [
      "Updated animals list:  ['cat', 'dog', 'rabbit', ['tiger', 'fox']]\n"
     ]
    }
   ],
   "source": [
    "# animals list(list can add another list)\n",
    "animals = ['cat', 'dog', 'rabbit']\n",
    "\n",
    "# list of wild animals\n",
    "wild_animals = ['tiger', 'fox']\n",
    "\n",
    "# appending wild_animals list to animals\n",
    "animals.append(wild_animals)\n",
    "\n",
    "print('Updated animals list: ', animals)"
   ]
  },
  {
   "cell_type": "code",
   "execution_count": null,
   "id": "421bd827",
   "metadata": {},
   "outputs": [],
   "source": [
    "# Write a function to add an item to the end of the list.\n",
    "\n",
    " #inputs ['apple', 'banana', 'cherry'] and 'orange', \n",
    " # the output should be ['apple', 'banana', 'cherry', 'orange'(1st ,item):\n"
   ]
  },
  {
   "cell_type": "code",
   "execution_count": 30,
   "id": "f90f7ada",
   "metadata": {},
   "outputs": [
    {
     "name": "stdout",
     "output_type": "stream",
     "text": [
      "The updated fruits list is: ['apple', 'banana', 'orange', 'cherry']\n"
     ]
    }
   ],
   "source": [
    "def append_item(first ,item):\n",
    "    fruits = ['apple', 'banana', 'cherry']\n",
    "    fruits.append(\"orange\")\n",
    "    \n",
    "print(\"The updated fruits list is:\",fruits)\n",
    "    \n",
    "    "
   ]
  },
  {
   "cell_type": "code",
   "execution_count": null,
   "id": "3abf1f40",
   "metadata": {},
   "outputs": [
    {
     "name": "stdout",
     "output_type": "stream",
     "text": [
      "Hi\n",
      "Bye\n",
      "WOW!\n"
     ]
    }
   ],
   "source": [
    "# WAF to print \"Hi\", \"Bye\", n \"WOW!\" under nested function\n",
    "def f1():\n",
    "    print(\"Hi\")\n",
    "    def f2():\n",
    "        print(\"Bye\")\n",
    "        def f3():\n",
    "            print(\"WOW!\")\n",
    "        return f3    \n",
    "    return f2\n",
    "  \n",
    "x=f1()\n",
    "y= x()\n",
    "z=y()\n",
    "\n"
   ]
  },
  {
   "cell_type": "code",
   "execution_count": 6,
   "id": "b8542129",
   "metadata": {},
   "outputs": [
    {
     "name": "stdout",
     "output_type": "stream",
     "text": [
      "Hi\n",
      "Bye\n",
      "WOW!\n"
     ]
    }
   ],
   "source": [
    "def f1():\n",
    "    print(\"Hi\")\n",
    "    def f2():\n",
    "        print(\"Bye\")\n",
    "        def f3():\n",
    "            print(\"WOW!\")\n",
    "        return f3    \n",
    "    return f2\n",
    "  \n",
    "x=f1()\n",
    "y=x()\n",
    "z=y()\n"
   ]
  },
  {
   "cell_type": "code",
   "execution_count": 8,
   "id": "2ce74ca0",
   "metadata": {},
   "outputs": [
    {
     "name": "stdout",
     "output_type": "stream",
     "text": [
      "Hello\n"
     ]
    }
   ],
   "source": [
    "def fun1(msg): # outer function\n",
    "    \n",
    "    def fun2(): # inner function\n",
    "        print(msg)\n",
    "    fun2()\n",
    "\n",
    "fun1(\"Hello\")"
   ]
  },
  {
   "cell_type": "code",
   "execution_count": null,
   "id": "e79434bc",
   "metadata": {},
   "outputs": [
    {
     "name": "stdout",
     "output_type": "stream",
     "text": [
      "Good morning\n",
      "good night\n",
      "good evening\n"
     ]
    }
   ],
   "source": [
    "def fun1(): # outer function\n",
    "    print(\"Good morning\")\n",
    "    def fun2(): # inner function\n",
    "        print(\"good night\")\n",
    "        def fun3():   # deeply nested function\n",
    "            print(\"good evening\")\n",
    "        return fun3\n",
    "    \n",
    "    return fun2\n",
    "   \n",
    "a = fun1()\n",
    "b = a()\n",
    "c = b()\n",
    "    \n",
    "\n"
   ]
  },
  {
   "cell_type": "code",
   "execution_count": 4,
   "id": "0b441cec",
   "metadata": {},
   "outputs": [
    {
     "name": "stdout",
     "output_type": "stream",
     "text": [
      "The result of addition of multiple variable is: 281\n",
      "None\n"
     ]
    }
   ],
   "source": [
    "num = [12,34,54,35,56,45,24,21]\n",
    "def calc_sum(*args):\n",
    "    total = sum(args)\n",
    "    print(\"The result of addition of multiple variable is:\",total)\n",
    "    \n",
    "\n",
    "    \n",
    "num=calc_sum(12,34,54,35,56,45,24,21)\n",
    "print(num)\n",
    "\n",
    "\n"
   ]
  },
  {
   "cell_type": "code",
   "execution_count": 1,
   "id": "e2fa1852",
   "metadata": {},
   "outputs": [
    {
     "name": "stdout",
     "output_type": "stream",
     "text": [
      "3 * 1 = 3\n",
      "3 * 2 = 6\n",
      "3 * 3 = 9\n",
      "3 * 4 = 12\n",
      "3 * 5 = 15\n",
      "3 * 6 = 18\n",
      "3 * 7 = 21\n",
      "3 * 8 = 24\n",
      "3 * 9 = 27\n",
      "3 * 10 = 30\n"
     ]
    }
   ],
   "source": [
    "num = int(input(\"enter a number for multiplication\"))\n",
    "i= 1\n",
    "for i in range (1,11 ):\n",
    "    \n",
    " print(num, \"*\", i, \"=\",num*i)\n"
   ]
  },
  {
   "cell_type": "code",
   "execution_count": 8,
   "id": "cbd1e34b",
   "metadata": {},
   "outputs": [
    {
     "name": "stdout",
     "output_type": "stream",
     "text": [
      "8 * 1 = 8\n",
      "8 * 2 = 16\n",
      "8 * 3 = 24\n",
      "8 * 4 = 32\n",
      "8 * 5 = 40\n",
      "8 * 6 = 48\n",
      "8 * 7 = 56\n",
      "8 * 8 = 64\n",
      "8 * 9 = 72\n",
      "8 * 10 = 80\n"
     ]
    }
   ],
   "source": [
    "num= int(input(\"enter a number for multiplication\"))\n",
    "i = 1\n",
    "while i<=10:\n",
    "         \n",
    "         print(num,\"*\",i, \"=\",num*i)\n",
    "         i = i+1\n"
   ]
  },
  {
   "cell_type": "code",
   "execution_count": 15,
   "id": "9cb6fb77",
   "metadata": {},
   "outputs": [
    {
     "name": "stdout",
     "output_type": "stream",
     "text": [
      "The first 10 odd numbers are: 1\n",
      "The first 10 odd numbers are: 3\n",
      "The first 10 odd numbers are: 5\n",
      "The first 10 odd numbers are: 7\n",
      "The first 10 odd numbers are: 9\n"
     ]
    }
   ],
   "source": [
    " # Write a python script  to print first 10 odd Number\n",
    "n = 10\n",
    "\n",
    "i= 0\n",
    "while i<= 10:\n",
    "    if i% 2 != 0:\n",
    "        print(\"The first 10 odd numbers are:\" ,i)\n",
    "    i = i+1\n",
    "    \n",
    "        \n",
    "\n",
    "\n"
   ]
  },
  {
   "cell_type": "markdown",
   "id": "0145aa24",
   "metadata": {},
   "source": []
  },
  {
   "cell_type": "markdown",
   "id": "4b7145cb",
   "metadata": {},
   "source": [
    "write a python script to print first N even natural Number"
   ]
  },
  {
   "cell_type": "code",
   "execution_count": 26,
   "id": "f542ff16",
   "metadata": {},
   "outputs": [
    {
     "name": "stdout",
     "output_type": "stream",
     "text": [
      " The first N even natural number are: 2\n",
      " The first N even natural number are: 4\n",
      " The first N even natural number are: 6\n",
      " The first N even natural number are: 8\n",
      " The first N even natural number are: 10\n",
      " The first N even natural number are: 12\n",
      " The first N even natural number are: 14\n",
      " The first N even natural number are: 16\n",
      " The first N even natural number are: 18\n",
      " The first N even natural number are: 20\n"
     ]
    }
   ],
   "source": [
    "n = int(input(\"enter a number\"))\n",
    "i = 1\n",
    "while i<=n:\n",
    "    if i % 2 == 0:\n",
    "      print(\" The first N even natural number are:\", i)\n",
    "    i = i+1 \n",
    "        "
   ]
  },
  {
   "cell_type": "markdown",
   "id": "8bbeb3f1",
   "metadata": {},
   "source": [
    "# Write a Python Script to print first 10 odd Natural Number in reverse order"
   ]
  },
  {
   "cell_type": "code",
   "execution_count": 18,
   "id": "fc54e29b",
   "metadata": {},
   "outputs": [
    {
     "name": "stdout",
     "output_type": "stream",
     "text": [
      "The first 10 odd natural number are: 10\n",
      "The first 10 odd natural number are: 9\n",
      "The first 10 odd natural number are: 8\n",
      "The first 10 odd natural number are: 7\n",
      "The first 10 odd natural number are: 6\n",
      "The first 10 odd natural number are: 5\n",
      "The first 10 odd natural number are: 4\n",
      "The first 10 odd natural number are: 3\n",
      "The first 10 odd natural number are: 2\n",
      "The first 10 odd natural number are: 1\n"
     ]
    }
   ],
   "source": [
    "num = 10\n",
    "while num> 0:\n",
    "    print(\"The first 10 odd natural number are:\", num)\n",
    "    num = num-1"
   ]
  },
  {
   "cell_type": "code",
   "execution_count": null,
   "id": "ad20ce89",
   "metadata": {},
   "outputs": [],
   "source": [
    " # write a python Script to calculate sum of first N natural numbers"
   ]
  },
  {
   "cell_type": "code",
   "execution_count": 22,
   "id": "f6cd8e3b",
   "metadata": {},
   "outputs": [
    {
     "name": "stdout",
     "output_type": "stream",
     "text": [
      "The sum of first 20  natural number are: 2\n",
      "The sum of first 20  natural number are: 3\n",
      "The sum of first 20  natural number are: 4\n",
      "The sum of first 20  natural number are: 5\n",
      "The sum of first 20  natural number are: 6\n",
      "The sum of first 20  natural number are: 7\n",
      "The sum of first 20  natural number are: 8\n",
      "The sum of first 20  natural number are: 9\n",
      "The sum of first 20  natural number are: 10\n",
      "The sum of first 20  natural number are: 11\n",
      "The sum of first 20  natural number are: 12\n",
      "The sum of first 20  natural number are: 13\n",
      "The sum of first 20  natural number are: 14\n",
      "The sum of first 20  natural number are: 15\n",
      "The sum of first 20  natural number are: 16\n",
      "The sum of first 20  natural number are: 17\n",
      "The sum of first 20  natural number are: 18\n",
      "The sum of first 20  natural number are: 19\n",
      "The sum of first 20  natural number are: 20\n",
      "The sum of first 20  natural number are: 21\n"
     ]
    }
   ],
   "source": [
    "n = int(input(\"enter a number\"))\n",
    "i= 1\n",
    "sum = 0\n",
    "while i<=n:\n",
    "    sum = i+1\n",
    "    \n",
    "    print(\"The sum of first\", n,\" natural number are:\", sum)\n",
    "    i = i+1\n"
   ]
  },
  {
   "cell_type": "code",
   "execution_count": null,
   "id": "b905ed07",
   "metadata": {},
   "outputs": [],
   "source": []
  }
 ],
 "metadata": {
  "kernelspec": {
   "display_name": "base",
   "language": "python",
   "name": "python3"
  },
  "language_info": {
   "codemirror_mode": {
    "name": "ipython",
    "version": 3
   },
   "file_extension": ".py",
   "mimetype": "text/x-python",
   "name": "python",
   "nbconvert_exporter": "python",
   "pygments_lexer": "ipython3",
   "version": "3.12.7"
  }
 },
 "nbformat": 4,
 "nbformat_minor": 5
}
